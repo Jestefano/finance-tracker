{
 "cells": [],
 "metadata": {
  "kernelspec": {
   "display_name": "Python 3",
   "language": "python",
   "name": "python3"
  },
  "language_info": {
   "codemirror_mode": {
    "name": "ipython",
    "version": 3
   },
   "file_extension": ".py",
   "mimetype": "text/x-python",
   "name": "python",
   "nbconvert_exporter": "python",
   "pygments_lexer": "ipython3",
   "version": "3.10.9"
  },
  "orig_nbformat": 4,
  "vscode": {
   "interpreter": {
    "hash": "9b20718d4f5da5cc04a66f22419fd52c5b81083597a1f1c76b86a1a555d4c4ff"
   }
  }
 },
 "nbformat": 4,
 "nbformat_minor": 2
}
