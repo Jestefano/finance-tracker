{
 "cells": [
  {
   "cell_type": "code",
   "execution_count": 18,
   "metadata": {},
   "outputs": [],
   "source": [
    "import boto3\n",
    "import botocore\n",
    "import time\n",
    "import re"
   ]
  },
  {
   "cell_type": "code",
   "execution_count": 19,
   "metadata": {},
   "outputs": [],
   "source": [
    "DB_NAME = 'finance-tracker-jeste-bot'\n",
    "REGION = 'us-east-1'\n",
    "BUCKET_NAME = 'finance-tracker-jeste-bot'\n",
    "ATHENA_TABLE = 'transactions'"
   ]
  },
  {
   "cell_type": "code",
   "execution_count": 20,
   "metadata": {},
   "outputs": [],
   "source": [
    "client = boto3.client('athena')\n",
    "s3 = boto3.resource('s3')\n",
    "s3Client = boto3.client('s3')"
   ]
  },
  {
   "cell_type": "code",
   "execution_count": 22,
   "metadata": {},
   "outputs": [],
   "source": [
    "def athena_query(client, DB_NAME, BUCKET_NAME,query, output):\n",
    "    response = client.start_query_execution(\n",
    "        QueryString=query,\n",
    "        QueryExecutionContext={'Database': DB_NAME},\n",
    "        ResultConfiguration={'OutputLocation': output}\n",
    "    )\n",
    "    return response"
   ]
  },
  {
   "cell_type": "code",
   "execution_count": 45,
   "metadata": {},
   "outputs": [
    {
     "data": {
      "text/plain": [
       "(2023, 2, 10)"
      ]
     },
     "execution_count": 45,
     "metadata": {},
     "output_type": "execute_result"
    }
   ],
   "source": [
    "key = 's3://finance-tracker-jeste-bot/data/YEAR=2023/MONTH=02/DAY=10/48d9c1e6a97e11ed8edf2c8db1de928d.json'\n",
    "key_route = '/'.join(key.split('/')[:-1]) + '/'\n",
    "date_params = key_route.split('/')[-4:-1]\n",
    "year, month, day = [int(params.split('=')[-1]) for params in date_params]\n",
    "year,month,day"
   ]
  },
  {
   "cell_type": "code",
   "execution_count": 56,
   "metadata": {},
   "outputs": [
    {
     "data": {
      "text/plain": [
       "('s3://finance-tracker-jeste-bot/data/YEAR=2023/MONTH=02/DAY=10/',\n",
       " 'finance-tracker-jeste-bot')"
      ]
     },
     "execution_count": 56,
     "metadata": {},
     "output_type": "execute_result"
    }
   ],
   "source": [
    "key_route, BUCKET_NAME"
   ]
  },
  {
   "cell_type": "code",
   "execution_count": 64,
   "metadata": {},
   "outputs": [
    {
     "data": {
      "text/plain": [
       "True"
      ]
     },
     "execution_count": 64,
     "metadata": {},
     "output_type": "execute_result"
    }
   ],
   "source": [
    "key_route = '/'.join(key.split('/')[:-1]) + '/'\n",
    "key_route_check = '/'.join(key_route.split('/')[3:])\n",
    "_is_valid_s3_path(s3, BUCKET_NAME, key_route_check)"
   ]
  },
  {
   "cell_type": "code",
   "execution_count": 36,
   "metadata": {},
   "outputs": [
    {
     "name": "stdout",
     "output_type": "stream",
     "text": [
      "athena_temp/ba6416d2-ee7e-4c8a-8530-aea99340b7b9.txt\n",
      "Athena Partition List : \n",
      "['year=2023/month=01/day=01', 'year=2023/month=02/day=10', 'year=2023/month=02/day=11']\n",
      "----------------------------------\n",
      "\n"
     ]
    }
   ],
   "source": [
    "s3_filename = athena_to_s3(client)\n",
    "print(f'athena_temp/{s3_filename}')\n",
    "fileObj = s3.Object(BUCKET_NAME, f'athena_temp/{s3_filename}')\n",
    "contents = fileObj.get()['Body'].read().decode('utf-8') \n",
    "athenaList = contents.splitlines()\n"
   ]
  },
  {
   "cell_type": "code",
   "execution_count": null,
   "metadata": {},
   "outputs": [],
   "source": [
    "# Si el folder esta creado"
   ]
  }
 ],
 "metadata": {
  "kernelspec": {
   "display_name": "Python 3",
   "language": "python",
   "name": "python3"
  },
  "language_info": {
   "codemirror_mode": {
    "name": "ipython",
    "version": 3
   },
   "file_extension": ".py",
   "mimetype": "text/x-python",
   "name": "python",
   "nbconvert_exporter": "python",
   "pygments_lexer": "ipython3",
   "version": "3.10.10"
  },
  "orig_nbformat": 4,
  "vscode": {
   "interpreter": {
    "hash": "9b20718d4f5da5cc04a66f22419fd52c5b81083597a1f1c76b86a1a555d4c4ff"
   }
  }
 },
 "nbformat": 4,
 "nbformat_minor": 2
}
